{
 "cells": [
  {
   "cell_type": "code",
   "execution_count": null,
   "metadata": {},
   "outputs": [],
   "source": []
  },
  {
   "cell_type": "code",
   "execution_count": 8,
   "metadata": {},
   "outputs": [],
   "source": [
    "import pandas as pd\n",
    "import numpy as np\n",
    "import scipy.stats as sts\n",
    "import statsmodels.formula.api as smf \n",
    "import matplotlib.pyplot as plt\n",
    "import seaborn as sns"
   ]
  },
  {
   "cell_type": "markdown",
   "metadata": {},
   "source": [
    "# Univariate Investment Risk and Return"
   ]
  },
  {
   "cell_type": "markdown",
   "metadata": {},
   "source": [
    "## Returns\n",
    "\n",
    "What is Risk?\n",
    "- Risk in financial markets is a measure of uncertainty. It is the dispersion or variance of financial returns.\n",
    "\n",
    "How do you typically measure risk?\n",
    "- Standard deviation or variance of daily returns\n",
    "- Kurtosis of the daily returns distribution\n",
    "- Skewness of the daily returns distribution\n",
    "\n",
    "Discrete returns and Log returns:\n",
    "<img src='images/discrete_returns.png' width=300/> <img src='images/log_returns.png' width=300/>\n"
   ]
  },
  {
   "cell_type": "code",
   "execution_count": 3,
   "metadata": {},
   "outputs": [
    {
     "data": {
      "text/html": [
       "<div>\n",
       "<style scoped>\n",
       "    .dataframe tbody tr th:only-of-type {\n",
       "        vertical-align: middle;\n",
       "    }\n",
       "\n",
       "    .dataframe tbody tr th {\n",
       "        vertical-align: top;\n",
       "    }\n",
       "\n",
       "    .dataframe thead th {\n",
       "        text-align: right;\n",
       "    }\n",
       "</style>\n",
       "<table border=\"1\" class=\"dataframe\">\n",
       "  <thead>\n",
       "    <tr style=\"text-align: right;\">\n",
       "      <th></th>\n",
       "      <th>Date</th>\n",
       "      <th>Open</th>\n",
       "      <th>High</th>\n",
       "      <th>Low</th>\n",
       "      <th>Close</th>\n",
       "      <th>Volume</th>\n",
       "      <th>Adjusted</th>\n",
       "    </tr>\n",
       "  </thead>\n",
       "  <tbody>\n",
       "    <tr>\n",
       "      <th>0</th>\n",
       "      <td>2000-01-03</td>\n",
       "      <td>88.777</td>\n",
       "      <td>89.722</td>\n",
       "      <td>84.712</td>\n",
       "      <td>58.28125</td>\n",
       "      <td>53228400</td>\n",
       "      <td>38.527809</td>\n",
       "    </tr>\n",
       "    <tr>\n",
       "      <th>1</th>\n",
       "      <td>2000-01-04</td>\n",
       "      <td>85.893</td>\n",
       "      <td>88.588</td>\n",
       "      <td>84.901</td>\n",
       "      <td>56.31250</td>\n",
       "      <td>54119000</td>\n",
       "      <td>37.226345</td>\n",
       "    </tr>\n",
       "    <tr>\n",
       "      <th>2</th>\n",
       "      <td>2000-01-05</td>\n",
       "      <td>84.050</td>\n",
       "      <td>88.021</td>\n",
       "      <td>82.726</td>\n",
       "      <td>56.90625</td>\n",
       "      <td>64059600</td>\n",
       "      <td>37.618851</td>\n",
       "    </tr>\n",
       "    <tr>\n",
       "      <th>3</th>\n",
       "      <td>2000-01-06</td>\n",
       "      <td>84.853</td>\n",
       "      <td>86.130</td>\n",
       "      <td>81.970</td>\n",
       "      <td>55.00000</td>\n",
       "      <td>54976600</td>\n",
       "      <td>36.358688</td>\n",
       "    </tr>\n",
       "    <tr>\n",
       "      <th>4</th>\n",
       "      <td>2000-01-07</td>\n",
       "      <td>82.159</td>\n",
       "      <td>84.901</td>\n",
       "      <td>81.166</td>\n",
       "      <td>55.71875</td>\n",
       "      <td>62013600</td>\n",
       "      <td>36.833828</td>\n",
       "    </tr>\n",
       "  </tbody>\n",
       "</table>\n",
       "</div>"
      ],
      "text/plain": [
       "        Date    Open    High     Low     Close    Volume   Adjusted\n",
       "0 2000-01-03  88.777  89.722  84.712  58.28125  53228400  38.527809\n",
       "1 2000-01-04  85.893  88.588  84.901  56.31250  54119000  37.226345\n",
       "2 2000-01-05  84.050  88.021  82.726  56.90625  64059600  37.618851\n",
       "3 2000-01-06  84.853  86.130  81.970  55.00000  54976600  36.358688\n",
       "4 2000-01-07  82.159  84.901  81.166  55.71875  62013600  36.833828"
      ]
     },
     "execution_count": 3,
     "metadata": {},
     "output_type": "execute_result"
    }
   ],
   "source": [
    "StockPrices = pd.read_csv('MSFTPrices.csv', parse_dates=['Date'])\n",
    "StockPrices = StockPrices.sort_values(by='Date')\n",
    "StockPrices.head(5)"
   ]
  },
  {
   "cell_type": "markdown",
   "metadata": {},
   "source": [
    "This file included daily Open, High, Low, Close, Adjusted Close, and Volume data, often referred to as **OHLCV data**.\n",
    "\n",
    "The Adjusted Close column is the most important. It is normalized for stock splits, dividends, and other corporate actions, and is a true reflection of the return of the stock over time. Adjusted close price is used to calculate the returns of the stock."
   ]
  },
  {
   "cell_type": "code",
   "execution_count": 4,
   "metadata": {},
   "outputs": [
    {
     "data": {
      "image/png": "[encoded data removed]",
      "text/plain": [
       "<Figure size 432x288 with 1 Axes>"
      ]
     },
     "metadata": {
      "needs_background": "light"
     },
     "output_type": "display_data"
    }
   ],
   "source": [
    "StockPrices['Returns'] = StockPrices['Adjusted'].pct_change()\n",
    "StockPrices['Returns'].plot(title='Returns')\n",
    "plt.show()"
   ]
  },
  {
   "cell_type": "code",
   "execution_count": 5,
   "metadata": {},
   "outputs": [
    {
     "data": {
      "image/png": "[encoded data removed]",
      "text/plain": [
       "<Figure size 432x288 with 1 Axes>"
      ]
     },
     "metadata": {
      "needs_background": "light"
     },
     "output_type": "display_data"
    }
   ],
   "source": [
    "percent_return = StockPrices['Returns']*100\n",
    "plt.hist(percent_return.dropna(), bins=75)\n",
    "plt.show()"
   ]
  },
  {
   "cell_type": "markdown",
   "metadata": {},
   "source": [
    "## Average Returns and Volatility\n",
    "\n",
    "Moments of Distributions:\n",
    "1. Mean\n",
    "2. Variance\n",
    "3. Skewness\n",
    "4. Kurtosis\n",
    "\n",
    "\n",
    "- Normal distributions have a skewness near 0 and a kurtosis near 3.\n",
    "- Financial returns tend not to be normally distributed.\n",
    "- Financial returns can have high kurtosis.\n",
    "\n",
    "<img src='images/ibm_vs_gaussian_dist.png' width=400 />\n",
    "\n",
    "Note the difference in kurtosis between IBM and Gaussian distribution.\n",
    "\n",
    "But what use are daily return estimates to a long-term investor? You can use the formula below to estimate the average annual return of a stock given the average daily return and the number of trading days (252) in a year:\n",
    "To get annual average return, do NOT simply multiple daily avg. return with no. of trading days in a year.\n",
    "\n",
    "<img src='images/scale_avg_return.png' width=500 />\n",
    "\n",
    "<img src='images/scaled_volatility.png' width=400 />"
   ]
  },
  {
   "cell_type": "code",
   "execution_count": 6,
   "metadata": {},
   "outputs": [
    {
     "name": "stdout",
     "output_type": "stream",
     "text": [
      "0.00037777546435757725\n",
      "0.09985839482858783\n"
     ]
    }
   ],
   "source": [
    "mean_return_daily = np.mean(StockPrices['Returns'])\n",
    "print(mean_return_daily)\n",
    "\n",
    "mean_return_annualized = ((1 + mean_return_daily) ** 252) - 1\n",
    "print(mean_return_annualized)"
   ]
  },
  {
   "cell_type": "code",
   "execution_count": 13,
   "metadata": {},
   "outputs": [
    {
     "name": "stdout",
     "output_type": "stream",
     "text": [
      "Daily std. deviation is 0.019341100408708328\n",
      "Daily variance is 0.0003740781650197374\n",
      "Annualized std. deviation is 0.3070304505826317\n",
      "Annualized variance is 0.09426769758497383\n"
     ]
    }
   ],
   "source": [
    "sigma_daily = np.std(StockPrices['Returns'])\n",
    "print(f'Daily std. deviation is {sigma_daily}')\n",
    "\n",
    "variance_daily = sigma_daily ** 2\n",
    "print(f'Daily variance is {variance_daily}')\n",
    "\n",
    "sigma_annualized = sigma_daily * np.sqrt(252)\n",
    "print(f'Annualized std. deviation is {sigma_annualized}')\n",
    "\n",
    "variance_annualized = sigma_annualized ** 2\n",
    "print(f'Annualized variance is {variance_annualized}')"
   ]
  },
  {
   "cell_type": "markdown",
   "metadata": {},
   "source": [
    "## Skewness and Kurtosis\n",
    "\n",
    "<img src='images/skewness.png' width=300/>\n",
    "In finance, you would tend to want positive skewness\n",
    "\n",
    "Skewness can be calculated using `scipy.stats.skew`.\n",
    "\n",
    "Kurtosis is a measure of the thickness of the tails of a distribution.\n",
    "\n",
    "Most financial returns are leptokurtic. \n",
    "\n",
    "Leptokurtic: When a distribution has positive excess kurtosis (kurtosis greater than 3)\n",
    "\n",
    "Excess Kurtosis: Subtract 3 (kurtosis of gaussian dist.) from the sample kurtosis to calculate “Excess Kurtosis”\n",
    "\n",
    "<img src='images/ibm_kurtosis.png' width=300/>\n",
    "\n",
    "<u>Excess</u> Kurtosis can be calculated using `scipy.stats.kurtosis`. Excess kurtosis greater than 0 suggests non-normality.\n",
    "\n",
    "\n",
    "How do you perform a statistical test for normality?\n",
    "The null hypothesis of the **Shapiro-Wilk** test is that the data are normally distributed.\n",
    "\n",
    "To run the Shapiro-Wilk normality test in Python:\n",
    "```\n",
    "from scipy import stats\n",
    "p_value = stats.shapiro(StockData[\"Returns\"].dropna())[1]\n",
    "if p_value <= 0.05:\n",
    "    print(\"Null hypothesis of normality is rejected.\")\n",
    "else:\n",
    "    print(\"Null hypothesis of normality is accepted.\")\n",
    "```\n",
    "\n",
    "The `shapiro` function will return two values in a list. The first value is the t-stat of the test, and the second value is the p-value."
   ]
  },
  {
   "cell_type": "code",
   "execution_count": 15,
   "metadata": {},
   "outputs": [
    {
     "name": "stdout",
     "output_type": "stream",
     "text": [
      "0.21935459193067852\n"
     ]
    }
   ],
   "source": [
    "# Calculate the third moment (skewness) of the returns distribution\n",
    "returns_skewness = sts.skew(StockPrices['Returns'].dropna())\n",
    "print(returns_skewness)"
   ]
  },
  {
   "cell_type": "code",
   "execution_count": 17,
   "metadata": {},
   "outputs": [
    {
     "name": "stdout",
     "output_type": "stream",
     "text": [
      "10.31457261802553\n",
      "13.31457261802553\n"
     ]
    }
   ],
   "source": [
    "# Calculate the excess kurtosis of the returns distribution\n",
    "excess_kurtosis = sts.kurtosis(StockPrices['Returns'].dropna())\n",
    "print(excess_kurtosis)\n",
    "\n",
    "# Derive the true fourth moment of the returns distribution\n",
    "fourth_moment = excess_kurtosis + 3\n",
    "print(fourth_moment)"
   ]
  },
  {
   "cell_type": "code",
   "execution_count": 19,
   "metadata": {},
   "outputs": [
    {
     "name": "stdout",
     "output_type": "stream",
     "text": [
      "Shapiro results: (0.9003633260726929, 0.0)\n",
      "P-value:  0.0\n"
     ]
    }
   ],
   "source": [
    "# Run the Shapiro-Wilk test on the stock returns\n",
    "shapiro_results = sts.shapiro(StockPrices['Returns'].dropna())\n",
    "print(\"Shapiro results:\", shapiro_results)\n",
    "\n",
    "# Extract the p-value from the shapiro_results\n",
    "p_value = shapiro_results[1]\n",
    "print(\"P-value: \", p_value)"
   ]
  },
  {
   "cell_type": "markdown",
   "metadata": {},
   "source": [
    "Since the p-value is less than 0.05, we reject the null hypothesis, at 95% significance level, that the data is normally distributed."
   ]
  },
  {
   "cell_type": "markdown",
   "metadata": {},
   "source": [
    "# Portfolio Investing"
   ]
  },
  {
   "cell_type": "markdown",
   "metadata": {},
   "source": [
    "## Portfolio Returns"
   ]
  },
  {
   "cell_type": "markdown",
   "metadata": {},
   "source": [
    "<img src='images/portfolio_return.png' width=300 />\n",
    "\n",
    "`CumulativeReturns = ((1+StockReturns).cumprod()-1)`\n",
    "\n",
    "<img src='images/market_cap_weighted_portfolio.png' width=300 />"
   ]
  },
  {
   "cell_type": "code",
   "execution_count": 54,
   "metadata": {},
   "outputs": [],
   "source": [
    "StockReturns = pd.read_csv('Big9Returns2017.csv', parse_dates=['Date'], index_col='Date')"
   ]
  },
  {
   "cell_type": "code",
   "execution_count": 55,
   "metadata": {
    "scrolled": true
   },
   "outputs": [
    {
     "data": {
      "text/html": [
       "<div>\n",
       "<style scoped>\n",
       "    .dataframe tbody tr th:only-of-type {\n",
       "        vertical-align: middle;\n",
       "    }\n",
       "\n",
       "    .dataframe tbody tr th {\n",
       "        vertical-align: top;\n",
       "    }\n",
       "\n",
       "    .dataframe thead th {\n",
       "        text-align: right;\n",
       "    }\n",
       "</style>\n",
       "<table border=\"1\" class=\"dataframe\">\n",
       "  <thead>\n",
       "    <tr style=\"text-align: right;\">\n",
       "      <th></th>\n",
       "      <th>AAPL</th>\n",
       "      <th>MSFT</th>\n",
       "      <th>XOM</th>\n",
       "      <th>JNJ</th>\n",
       "      <th>JPM</th>\n",
       "      <th>AMZN</th>\n",
       "      <th>GE</th>\n",
       "      <th>FB</th>\n",
       "      <th>T</th>\n",
       "    </tr>\n",
       "    <tr>\n",
       "      <th>Date</th>\n",
       "      <th></th>\n",
       "      <th></th>\n",
       "      <th></th>\n",
       "      <th></th>\n",
       "      <th></th>\n",
       "      <th></th>\n",
       "      <th></th>\n",
       "      <th></th>\n",
       "      <th></th>\n",
       "    </tr>\n",
       "  </thead>\n",
       "  <tbody>\n",
       "    <tr>\n",
       "      <th>2017-01-03</th>\n",
       "      <td>0.002849</td>\n",
       "      <td>0.007081</td>\n",
       "      <td>0.006980</td>\n",
       "      <td>0.005468</td>\n",
       "      <td>0.010894</td>\n",
       "      <td>0.005068</td>\n",
       "      <td>0.002848</td>\n",
       "      <td>0.015732</td>\n",
       "      <td>0.011521</td>\n",
       "    </tr>\n",
       "    <tr>\n",
       "      <th>2017-01-04</th>\n",
       "      <td>-0.001119</td>\n",
       "      <td>-0.004474</td>\n",
       "      <td>-0.011002</td>\n",
       "      <td>-0.001640</td>\n",
       "      <td>0.001844</td>\n",
       "      <td>0.004657</td>\n",
       "      <td>0.000316</td>\n",
       "      <td>0.015660</td>\n",
       "      <td>-0.005811</td>\n",
       "    </tr>\n",
       "    <tr>\n",
       "      <th>2017-01-05</th>\n",
       "      <td>0.005085</td>\n",
       "      <td>0.000000</td>\n",
       "      <td>-0.014907</td>\n",
       "      <td>0.010463</td>\n",
       "      <td>-0.009205</td>\n",
       "      <td>0.030732</td>\n",
       "      <td>-0.005678</td>\n",
       "      <td>0.016682</td>\n",
       "      <td>-0.002806</td>\n",
       "    </tr>\n",
       "    <tr>\n",
       "      <th>2017-01-06</th>\n",
       "      <td>0.011148</td>\n",
       "      <td>0.008668</td>\n",
       "      <td>-0.000565</td>\n",
       "      <td>-0.004792</td>\n",
       "      <td>0.000116</td>\n",
       "      <td>0.019912</td>\n",
       "      <td>0.002855</td>\n",
       "      <td>0.022707</td>\n",
       "      <td>-0.019924</td>\n",
       "    </tr>\n",
       "    <tr>\n",
       "      <th>2017-01-09</th>\n",
       "      <td>0.009159</td>\n",
       "      <td>-0.003183</td>\n",
       "      <td>-0.016497</td>\n",
       "      <td>-0.000172</td>\n",
       "      <td>0.000697</td>\n",
       "      <td>0.001168</td>\n",
       "      <td>-0.004745</td>\n",
       "      <td>0.012074</td>\n",
       "      <td>-0.012585</td>\n",
       "    </tr>\n",
       "  </tbody>\n",
       "</table>\n",
       "</div>"
      ],
      "text/plain": [
       "                AAPL      MSFT       XOM       JNJ       JPM      AMZN  \\\n",
       "Date                                                                     \n",
       "2017-01-03  0.002849  0.007081  0.006980  0.005468  0.010894  0.005068   \n",
       "2017-01-04 -0.001119 -0.004474 -0.011002 -0.001640  0.001844  0.004657   \n",
       "2017-01-05  0.005085  0.000000 -0.014907  0.010463 -0.009205  0.030732   \n",
       "2017-01-06  0.011148  0.008668 -0.000565 -0.004792  0.000116  0.019912   \n",
       "2017-01-09  0.009159 -0.003183 -0.016497 -0.000172  0.000697  0.001168   \n",
       "\n",
       "                  GE        FB         T  \n",
       "Date                                      \n",
       "2017-01-03  0.002848  0.015732  0.011521  \n",
       "2017-01-04  0.000316  0.015660 -0.005811  \n",
       "2017-01-05 -0.005678  0.016682 -0.002806  \n",
       "2017-01-06  0.002855  0.022707 -0.019924  \n",
       "2017-01-09 -0.004745  0.012074 -0.012585  "
      ]
     },
     "execution_count": 55,
     "metadata": {},
     "output_type": "execute_result"
    }
   ],
   "source": [
    "StockReturns.head()"
   ]
  },
  {
   "cell_type": "code",
   "execution_count": 56,
   "metadata": {},
   "outputs": [],
   "source": [
    "asset_names = StockReturns.columns"
   ]
  },
  {
   "cell_type": "code",
   "execution_count": 57,
   "metadata": {},
   "outputs": [],
   "source": [
    "portfolio_weights = np.array([0.12, 0.15, 0.08, 0.05, 0.09, 0.10, 0.11, 0.14, 0.16])\n",
    "\n",
    "# Calculate the weighted stock returns\n",
    "WeightedReturns = StockReturns.mul(portfolio_weights, axis=1)"
   ]
  },
  {
   "cell_type": "code",
   "execution_count": 58,
   "metadata": {},
   "outputs": [
    {
     "data": {
      "text/html": [
       "<div>\n",
       "<style scoped>\n",
       "    .dataframe tbody tr th:only-of-type {\n",
       "        vertical-align: middle;\n",
       "    }\n",
       "\n",
       "    .dataframe tbody tr th {\n",
       "        vertical-align: top;\n",
       "    }\n",
       "\n",
       "    .dataframe thead th {\n",
       "        text-align: right;\n",
       "    }\n",
       "</style>\n",
       "<table border=\"1\" class=\"dataframe\">\n",
       "  <thead>\n",
       "    <tr style=\"text-align: right;\">\n",
       "      <th></th>\n",
       "      <th>AAPL</th>\n",
       "      <th>MSFT</th>\n",
       "      <th>XOM</th>\n",
       "      <th>JNJ</th>\n",
       "      <th>JPM</th>\n",
       "      <th>AMZN</th>\n",
       "      <th>GE</th>\n",
       "      <th>FB</th>\n",
       "      <th>T</th>\n",
       "    </tr>\n",
       "    <tr>\n",
       "      <th>Date</th>\n",
       "      <th></th>\n",
       "      <th></th>\n",
       "      <th></th>\n",
       "      <th></th>\n",
       "      <th></th>\n",
       "      <th></th>\n",
       "      <th></th>\n",
       "      <th></th>\n",
       "      <th></th>\n",
       "    </tr>\n",
       "  </thead>\n",
       "  <tbody>\n",
       "    <tr>\n",
       "      <th>2017-01-03</th>\n",
       "      <td>0.000342</td>\n",
       "      <td>0.001062</td>\n",
       "      <td>0.000558</td>\n",
       "      <td>0.000273</td>\n",
       "      <td>0.000980</td>\n",
       "      <td>0.000507</td>\n",
       "      <td>0.000313</td>\n",
       "      <td>0.002203</td>\n",
       "      <td>0.001843</td>\n",
       "    </tr>\n",
       "    <tr>\n",
       "      <th>2017-01-04</th>\n",
       "      <td>-0.000134</td>\n",
       "      <td>-0.000671</td>\n",
       "      <td>-0.000880</td>\n",
       "      <td>-0.000082</td>\n",
       "      <td>0.000166</td>\n",
       "      <td>0.000466</td>\n",
       "      <td>0.000035</td>\n",
       "      <td>0.002192</td>\n",
       "      <td>-0.000930</td>\n",
       "    </tr>\n",
       "    <tr>\n",
       "      <th>2017-01-05</th>\n",
       "      <td>0.000610</td>\n",
       "      <td>0.000000</td>\n",
       "      <td>-0.001193</td>\n",
       "      <td>0.000523</td>\n",
       "      <td>-0.000828</td>\n",
       "      <td>0.003073</td>\n",
       "      <td>-0.000625</td>\n",
       "      <td>0.002335</td>\n",
       "      <td>-0.000449</td>\n",
       "    </tr>\n",
       "    <tr>\n",
       "      <th>2017-01-06</th>\n",
       "      <td>0.001338</td>\n",
       "      <td>0.001300</td>\n",
       "      <td>-0.000045</td>\n",
       "      <td>-0.000240</td>\n",
       "      <td>0.000010</td>\n",
       "      <td>0.001991</td>\n",
       "      <td>0.000314</td>\n",
       "      <td>0.003179</td>\n",
       "      <td>-0.003188</td>\n",
       "    </tr>\n",
       "    <tr>\n",
       "      <th>2017-01-09</th>\n",
       "      <td>0.001099</td>\n",
       "      <td>-0.000477</td>\n",
       "      <td>-0.001320</td>\n",
       "      <td>-0.000009</td>\n",
       "      <td>0.000063</td>\n",
       "      <td>0.000117</td>\n",
       "      <td>-0.000522</td>\n",
       "      <td>0.001690</td>\n",
       "      <td>-0.002014</td>\n",
       "    </tr>\n",
       "  </tbody>\n",
       "</table>\n",
       "</div>"
      ],
      "text/plain": [
       "                AAPL      MSFT       XOM       JNJ       JPM      AMZN  \\\n",
       "Date                                                                     \n",
       "2017-01-03  0.000342  0.001062  0.000558  0.000273  0.000980  0.000507   \n",
       "2017-01-04 -0.000134 -0.000671 -0.000880 -0.000082  0.000166  0.000466   \n",
       "2017-01-05  0.000610  0.000000 -0.001193  0.000523 -0.000828  0.003073   \n",
       "2017-01-06  0.001338  0.001300 -0.000045 -0.000240  0.000010  0.001991   \n",
       "2017-01-09  0.001099 -0.000477 -0.001320 -0.000009  0.000063  0.000117   \n",
       "\n",
       "                  GE        FB         T  \n",
       "Date                                      \n",
       "2017-01-03  0.000313  0.002203  0.001843  \n",
       "2017-01-04  0.000035  0.002192 -0.000930  \n",
       "2017-01-05 -0.000625  0.002335 -0.000449  \n",
       "2017-01-06  0.000314  0.003179 -0.003188  \n",
       "2017-01-09 -0.000522  0.001690 -0.002014  "
      ]
     },
     "execution_count": 58,
     "metadata": {},
     "output_type": "execute_result"
    }
   ],
   "source": [
    "WeightedReturns.head()"
   ]
  },
  {
   "cell_type": "code",
   "execution_count": 59,
   "metadata": {},
   "outputs": [
    {
     "data": {
      "image/png": "[encoded data removed]",
      "text/plain": [
       "<Figure size 432x288 with 1 Axes>"
      ]
     },
     "metadata": {
      "needs_background": "light"
     },
     "output_type": "display_data"
    }
   ],
   "source": [
    "# Calculate the portfolio returns\n",
    "StockReturns['Portfolio'] = WeightedReturns.sum(axis=1)\n",
    "\n",
    "# Plot the cumulative portfolio returns over time\n",
    "CumulativeReturns = (1 + StockReturns[\"Portfolio\"]).cumprod() - 1\n",
    "CumulativeReturns.plot(title='Portfolio cumulative returns')\n",
    "plt.show()"
   ]
  },
  {
   "cell_type": "code",
   "execution_count": 60,
   "metadata": {},
   "outputs": [
    {
     "data": {
      "image/png": "[encoded data removed]",
      "text/plain": [
       "<Figure size 432x288 with 1 Axes>"
      ]
     },
     "metadata": {
      "needs_background": "light"
     },
     "output_type": "display_data"
    }
   ],
   "source": [
    "# Market capitalizations (in billions)\n",
    "market_capitalizations = np.array([601.51, 469.25, 349.5, 310.48, 299.77, 356.94, 268.88, 331.57, 246.09])\n",
    "\n",
    "mcap_weights = market_capitalizations / np.sum(market_capitalizations)\n",
    "\n",
    "# Calculate the market cap weighted portfolio returns\n",
    "StockReturns['Portfolio_MCap'] = StockReturns.iloc[:, 0:9].mul(mcap_weights, axis=1).sum(axis=1)\n",
    "\n",
    "# Plot the cumulative portfolio returns over time\n",
    "CumulativeReturns = (1 + StockReturns[\"Portfolio_MCap\"]).cumprod() - 1\n",
    "CumulativeReturns.plot(title='MCap Portfolio cumulative returns')\n",
    "plt.show()"
   ]
  },
  {
   "cell_type": "markdown",
   "metadata": {},
   "source": [
    "## Portfolio Volatility\n",
    "\n",
    "<img src='images/portfolio_volatility.png' width=300 />\n",
    "\n",
    "`portfolio_vol = np.sqrt(np.dot(weights.T, np.dot(cov_mat, weights)))`"
   ]
  },
  {
   "cell_type": "code",
   "execution_count": 35,
   "metadata": {},
   "outputs": [
    {
     "data": {
      "text/html": [
       "<div>\n",
       "<style scoped>\n",
       "    .dataframe tbody tr th:only-of-type {\n",
       "        vertical-align: middle;\n",
       "    }\n",
       "\n",
       "    .dataframe tbody tr th {\n",
       "        vertical-align: top;\n",
       "    }\n",
       "\n",
       "    .dataframe thead th {\n",
       "        text-align: right;\n",
       "    }\n",
       "</style>\n",
       "<table border=\"1\" class=\"dataframe\">\n",
       "  <thead>\n",
       "    <tr style=\"text-align: right;\">\n",
       "      <th></th>\n",
       "      <th>AAPL</th>\n",
       "      <th>MSFT</th>\n",
       "      <th>XOM</th>\n",
       "      <th>JNJ</th>\n",
       "      <th>JPM</th>\n",
       "      <th>AMZN</th>\n",
       "      <th>GE</th>\n",
       "      <th>FB</th>\n",
       "      <th>T</th>\n",
       "    </tr>\n",
       "  </thead>\n",
       "  <tbody>\n",
       "    <tr>\n",
       "      <th>AAPL</th>\n",
       "      <td>1.000000</td>\n",
       "      <td>0.437430</td>\n",
       "      <td>0.055505</td>\n",
       "      <td>0.038432</td>\n",
       "      <td>0.199914</td>\n",
       "      <td>0.509472</td>\n",
       "      <td>0.006766</td>\n",
       "      <td>0.542367</td>\n",
       "      <td>0.005082</td>\n",
       "    </tr>\n",
       "    <tr>\n",
       "      <th>MSFT</th>\n",
       "      <td>0.437430</td>\n",
       "      <td>1.000000</td>\n",
       "      <td>0.084108</td>\n",
       "      <td>0.230215</td>\n",
       "      <td>0.191248</td>\n",
       "      <td>0.621096</td>\n",
       "      <td>-0.044827</td>\n",
       "      <td>0.543341</td>\n",
       "      <td>-0.021079</td>\n",
       "    </tr>\n",
       "    <tr>\n",
       "      <th>XOM</th>\n",
       "      <td>0.055505</td>\n",
       "      <td>0.084108</td>\n",
       "      <td>1.000000</td>\n",
       "      <td>0.121012</td>\n",
       "      <td>0.305926</td>\n",
       "      <td>0.015118</td>\n",
       "      <td>0.193861</td>\n",
       "      <td>-0.046813</td>\n",
       "      <td>0.197576</td>\n",
       "    </tr>\n",
       "    <tr>\n",
       "      <th>JNJ</th>\n",
       "      <td>0.038432</td>\n",
       "      <td>0.230215</td>\n",
       "      <td>0.121012</td>\n",
       "      <td>1.000000</td>\n",
       "      <td>0.070328</td>\n",
       "      <td>0.052781</td>\n",
       "      <td>0.067930</td>\n",
       "      <td>0.079391</td>\n",
       "      <td>0.091622</td>\n",
       "    </tr>\n",
       "    <tr>\n",
       "      <th>JPM</th>\n",
       "      <td>0.199914</td>\n",
       "      <td>0.191248</td>\n",
       "      <td>0.305926</td>\n",
       "      <td>0.070328</td>\n",
       "      <td>1.000000</td>\n",
       "      <td>0.013919</td>\n",
       "      <td>0.257401</td>\n",
       "      <td>0.095245</td>\n",
       "      <td>0.252832</td>\n",
       "    </tr>\n",
       "    <tr>\n",
       "      <th>AMZN</th>\n",
       "      <td>0.509472</td>\n",
       "      <td>0.621096</td>\n",
       "      <td>0.015118</td>\n",
       "      <td>0.052781</td>\n",
       "      <td>0.013919</td>\n",
       "      <td>1.000000</td>\n",
       "      <td>-0.092188</td>\n",
       "      <td>0.653030</td>\n",
       "      <td>-0.017909</td>\n",
       "    </tr>\n",
       "    <tr>\n",
       "      <th>GE</th>\n",
       "      <td>0.006766</td>\n",
       "      <td>-0.044827</td>\n",
       "      <td>0.193861</td>\n",
       "      <td>0.067930</td>\n",
       "      <td>0.257401</td>\n",
       "      <td>-0.092188</td>\n",
       "      <td>1.000000</td>\n",
       "      <td>-0.024364</td>\n",
       "      <td>0.292706</td>\n",
       "    </tr>\n",
       "    <tr>\n",
       "      <th>FB</th>\n",
       "      <td>0.542367</td>\n",
       "      <td>0.543341</td>\n",
       "      <td>-0.046813</td>\n",
       "      <td>0.079391</td>\n",
       "      <td>0.095245</td>\n",
       "      <td>0.653030</td>\n",
       "      <td>-0.024364</td>\n",
       "      <td>1.000000</td>\n",
       "      <td>-0.024505</td>\n",
       "    </tr>\n",
       "    <tr>\n",
       "      <th>T</th>\n",
       "      <td>0.005082</td>\n",
       "      <td>-0.021079</td>\n",
       "      <td>0.197576</td>\n",
       "      <td>0.091622</td>\n",
       "      <td>0.252832</td>\n",
       "      <td>-0.017909</td>\n",
       "      <td>0.292706</td>\n",
       "      <td>-0.024505</td>\n",
       "      <td>1.000000</td>\n",
       "    </tr>\n",
       "  </tbody>\n",
       "</table>\n",
       "</div>"
      ],
      "text/plain": [
       "          AAPL      MSFT       XOM       JNJ       JPM      AMZN        GE  \\\n",
       "AAPL  1.000000  0.437430  0.055505  0.038432  0.199914  0.509472  0.006766   \n",
       "MSFT  0.437430  1.000000  0.084108  0.230215  0.191248  0.621096 -0.044827   \n",
       "XOM   0.055505  0.084108  1.000000  0.121012  0.305926  0.015118  0.193861   \n",
       "JNJ   0.038432  0.230215  0.121012  1.000000  0.070328  0.052781  0.067930   \n",
       "JPM   0.199914  0.191248  0.305926  0.070328  1.000000  0.013919  0.257401   \n",
       "AMZN  0.509472  0.621096  0.015118  0.052781  0.013919  1.000000 -0.092188   \n",
       "GE    0.006766 -0.044827  0.193861  0.067930  0.257401 -0.092188  1.000000   \n",
       "FB    0.542367  0.543341 -0.046813  0.079391  0.095245  0.653030 -0.024364   \n",
       "T     0.005082 -0.021079  0.197576  0.091622  0.252832 -0.017909  0.292706   \n",
       "\n",
       "            FB         T  \n",
       "AAPL  0.542367  0.005082  \n",
       "MSFT  0.543341 -0.021079  \n",
       "XOM  -0.046813  0.197576  \n",
       "JNJ   0.079391  0.091622  \n",
       "JPM   0.095245  0.252832  \n",
       "AMZN  0.653030 -0.017909  \n",
       "GE   -0.024364  0.292706  \n",
       "FB    1.000000 -0.024505  \n",
       "T    -0.024505  1.000000  "
      ]
     },
     "execution_count": 35,
     "metadata": {},
     "output_type": "execute_result"
    }
   ],
   "source": [
    "StockReturns = pd.read_csv('Big9Returns2017.csv', parse_dates=['Date'], index_col='Date')\n",
    "returns_corr_matrix = StockReturns.corr()\n",
    "returns_corr_matrix"
   ]
  },
  {
   "cell_type": "code",
   "execution_count": 36,
   "metadata": {},
   "outputs": [
    {
     "data": {
      "image/png": "[encoded data removed]",
      "text/plain": [
       "<Figure size 432x288 with 2 Axes>"
      ]
     },
     "metadata": {
      "needs_background": "light"
     },
     "output_type": "display_data"
    }
   ],
   "source": [
    "# Create a heatmap\n",
    "sns.heatmap(\n",
    "    returns_corr_matrix,\n",
    "    annot=True,\n",
    "    cmap=\"YlGnBu\", \n",
    "    linewidths=0.3,\n",
    "    annot_kws={\"size\": 8}\n",
    ")\n",
    "\n",
    "# Plot aesthetics\n",
    "plt.xticks(rotation=90)\n",
    "plt.yticks(rotation=0) \n",
    "plt.show()"
   ]
  },
  {
   "cell_type": "code",
   "execution_count": 38,
   "metadata": {},
   "outputs": [],
   "source": [
    "returns_cov_matrix = StockReturns.cov()\n",
    "annual_returns_cov_matrix = returns_cov_matrix * 252"
   ]
  },
  {
   "cell_type": "code",
   "execution_count": 40,
   "metadata": {},
   "outputs": [
    {
     "name": "stdout",
     "output_type": "stream",
     "text": [
      "0.08931417642713807\n"
     ]
    }
   ],
   "source": [
    "portfolio_weights = np.array([0.12, 0.15, 0.08, 0.05, 0.09, 0.10, 0.11, 0.14, 0.16])\n",
    "portfolio_annual_volatility = np.sqrt(np.dot(portfolio_weights.T, np.dot(annual_returns_cov_matrix, portfolio_weights)))\n",
    "print(portfolio_annual_volatility)"
   ]
  },
  {
   "cell_type": "markdown",
   "metadata": {},
   "source": [
    "## Modern Portfolio Theory\n",
    "\n",
    "- Efficient Frontier\n",
    "- Maximum Sharpe Ratio portfolio (MSR)\n",
    "- Global Minimum Volatility portfolio (GMV)\n",
    "- Maximum Return portfolio: Portfolio with maximum return, irrespective of risk.\n",
    "- Tangency portfolio\n",
    "- Capital allocation line\n",
    "\n",
    "<img src='images/efficient_frontier.png' width=300 />\n",
    "<img src='images/tangency_portfolio.png' width=300 />\n",
    "<img src='images/capital_allocation_line.jpeg' width=300 />"
   ]
  },
  {
   "cell_type": "code",
   "execution_count": 62,
   "metadata": {},
   "outputs": [],
   "source": [
    "random_portfolios = pd.read_csv('EfficientFrontierPortfoliosSlim.csv')"
   ]
  },
  {
   "cell_type": "code",
   "execution_count": 63,
   "metadata": {
    "scrolled": true
   },
   "outputs": [
    {
     "data": {
      "text/html": [
       "<div>\n",
       "<style scoped>\n",
       "    .dataframe tbody tr th:only-of-type {\n",
       "        vertical-align: middle;\n",
       "    }\n",
       "\n",
       "    .dataframe tbody tr th {\n",
       "        vertical-align: top;\n",
       "    }\n",
       "\n",
       "    .dataframe thead th {\n",
       "        text-align: right;\n",
       "    }\n",
       "</style>\n",
       "<table border=\"1\" class=\"dataframe\">\n",
       "  <thead>\n",
       "    <tr style=\"text-align: right;\">\n",
       "      <th></th>\n",
       "      <th>AAPL weight</th>\n",
       "      <th>MSFT weight</th>\n",
       "      <th>XOM weight</th>\n",
       "      <th>JNJ weight</th>\n",
       "      <th>JPM weight</th>\n",
       "      <th>AMZN weight</th>\n",
       "      <th>GE weight</th>\n",
       "      <th>FB weight</th>\n",
       "      <th>T weight</th>\n",
       "      <th>Returns</th>\n",
       "      <th>Volatility</th>\n",
       "    </tr>\n",
       "  </thead>\n",
       "  <tbody>\n",
       "    <tr>\n",
       "      <th>0</th>\n",
       "      <td>0.000053</td>\n",
       "      <td>0.263110</td>\n",
       "      <td>0.007022</td>\n",
       "      <td>0.040087</td>\n",
       "      <td>0.000027</td>\n",
       "      <td>0.024316</td>\n",
       "      <td>0.355899</td>\n",
       "      <td>0.299400</td>\n",
       "      <td>0.010087</td>\n",
       "      <td>0.127453</td>\n",
       "      <td>0.171565</td>\n",
       "    </tr>\n",
       "    <tr>\n",
       "      <th>1</th>\n",
       "      <td>0.042360</td>\n",
       "      <td>0.034922</td>\n",
       "      <td>0.079355</td>\n",
       "      <td>0.043057</td>\n",
       "      <td>0.001435</td>\n",
       "      <td>0.202032</td>\n",
       "      <td>0.225924</td>\n",
       "      <td>0.362324</td>\n",
       "      <td>0.008590</td>\n",
       "      <td>0.138614</td>\n",
       "      <td>0.182723</td>\n",
       "    </tr>\n",
       "    <tr>\n",
       "      <th>2</th>\n",
       "      <td>0.207824</td>\n",
       "      <td>0.002132</td>\n",
       "      <td>0.005982</td>\n",
       "      <td>0.041657</td>\n",
       "      <td>0.007498</td>\n",
       "      <td>0.406642</td>\n",
       "      <td>0.064929</td>\n",
       "      <td>0.229260</td>\n",
       "      <td>0.034075</td>\n",
       "      <td>0.155952</td>\n",
       "      <td>0.201185</td>\n",
       "    </tr>\n",
       "    <tr>\n",
       "      <th>3</th>\n",
       "      <td>0.096565</td>\n",
       "      <td>0.016775</td>\n",
       "      <td>0.118409</td>\n",
       "      <td>0.037725</td>\n",
       "      <td>0.020013</td>\n",
       "      <td>0.045195</td>\n",
       "      <td>0.512282</td>\n",
       "      <td>0.153015</td>\n",
       "      <td>0.000020</td>\n",
       "      <td>0.118787</td>\n",
       "      <td>0.148958</td>\n",
       "    </tr>\n",
       "    <tr>\n",
       "      <th>4</th>\n",
       "      <td>0.131309</td>\n",
       "      <td>0.002733</td>\n",
       "      <td>0.002360</td>\n",
       "      <td>0.047573</td>\n",
       "      <td>0.050633</td>\n",
       "      <td>0.289410</td>\n",
       "      <td>0.313717</td>\n",
       "      <td>0.157123</td>\n",
       "      <td>0.005141</td>\n",
       "      <td>0.138304</td>\n",
       "      <td>0.171473</td>\n",
       "    </tr>\n",
       "  </tbody>\n",
       "</table>\n",
       "</div>"
      ],
      "text/plain": [
       "   AAPL weight  MSFT weight  XOM weight  JNJ weight  JPM weight  AMZN weight  \\\n",
       "0     0.000053     0.263110    0.007022    0.040087    0.000027     0.024316   \n",
       "1     0.042360     0.034922    0.079355    0.043057    0.001435     0.202032   \n",
       "2     0.207824     0.002132    0.005982    0.041657    0.007498     0.406642   \n",
       "3     0.096565     0.016775    0.118409    0.037725    0.020013     0.045195   \n",
       "4     0.131309     0.002733    0.002360    0.047573    0.050633     0.289410   \n",
       "\n",
       "   GE weight  FB weight  T weight   Returns  Volatility  \n",
       "0   0.355899   0.299400  0.010087  0.127453    0.171565  \n",
       "1   0.225924   0.362324  0.008590  0.138614    0.182723  \n",
       "2   0.064929   0.229260  0.034075  0.155952    0.201185  \n",
       "3   0.512282   0.153015  0.000020  0.118787    0.148958  \n",
       "4   0.313717   0.157123  0.005141  0.138304    0.171473  "
      ]
     },
     "execution_count": 63,
     "metadata": {},
     "output_type": "execute_result"
    }
   ],
   "source": [
    "random_portfolios.head()"
   ]
  },
  {
   "cell_type": "code",
   "execution_count": null,
   "metadata": {},
   "outputs": [],
   "source": []
  },
  {
   "cell_type": "code",
   "execution_count": 64,
   "metadata": {},
   "outputs": [
    {
     "name": "stdout",
     "output_type": "stream",
     "text": [
      "min    0.742884\n",
      "max    2.270462\n",
      "Name: sharpe, dtype: float64\n"
     ]
    }
   ],
   "source": [
    "risk_free_rate = 0  # Assumption for the sake of simplicity\n",
    "random_portfolios['sharpe'] = (random_portfolios['Returns'] - risk_free_rate) / random_portfolios['Volatility'] \n",
    "\n",
    "print(random_portfolios['sharpe'].describe()[['min', 'max']])"
   ]
  },
  {
   "cell_type": "markdown",
   "metadata": {},
   "source": [
    "Performance of MSR portfolio is often quite erratic. Even though the portfolio had a high historical Sharpe ratio, it doesn't guarantee that the portfolio will have a good Sharpe ratio moving forward."
   ]
  },
  {
   "cell_type": "code",
   "execution_count": 77,
   "metadata": {},
   "outputs": [],
   "source": [
    "numstocks = len(asset_names)\n",
    "\n",
    "# Sort the portfolios by Sharpe ratio\n",
    "MSR_weights = np.array(random_portfolios.sort_values(by=['sharpe'], ascending=False).iloc[0, :numstocks])\n",
    "GMV_weights = np.array(random_portfolios.sort_values(by=['Volatility'], ascending=True).iloc[0, :numstocks])\n",
    "\n",
    "# Calculate the MSR portfolio returns\n",
    "StockReturns['Portfolio_MSR'] = StockReturns.iloc[:, :numstocks].mul(MSR_weights, axis=1).sum(axis=1)\n",
    "\n",
    "# Calculate the GMV portfolio returns\n",
    "StockReturns['Portfolio_GMV'] = StockReturns.iloc[:, :numstocks].mul(GMV_weights, axis=1).sum(axis=1)"
   ]
  },
  {
   "cell_type": "code",
   "execution_count": 79,
   "metadata": {},
   "outputs": [
    {
     "data": {
      "image/png": "[encoded data removed]",
      "text/plain": [
       "<Figure size 432x288 with 1 Axes>"
      ]
     },
     "metadata": {
      "needs_background": "light"
     },
     "output_type": "display_data"
    }
   ],
   "source": [
    "cum_returns_random = (1 + StockReturns[\"Portfolio\"]).cumprod() - 1\n",
    "cum_returns_mcap = (1 + StockReturns[\"Portfolio_MCap\"]).cumprod() - 1\n",
    "cum_returns_msr = (1 + StockReturns[\"Portfolio_MSR\"]).cumprod() - 1\n",
    "cum_returns_gmv = (1 + StockReturns[\"Portfolio_GMV\"]).cumprod() - 1\n",
    "\n",
    "_ = plt.plot(cum_returns_random, label='random_weight')\n",
    "_ = plt.plot(cum_returns_mcap, label='market cap')\n",
    "_ = plt.plot(cum_returns_msr, label='Max sharpe portfolio')\n",
    "_ = plt.plot(cum_returns_gmv, label='Global min volatility portfolio')\n",
    "_ = plt.legend(loc='best')\n",
    "plt.show()"
   ]
  },
  {
   "cell_type": "markdown",
   "metadata": {},
   "source": [
    "GMV portfolio often outperforms the MSR portfolios out of sample even though the MSR would outperform quite significantly in-sample. Of course, out of sample results are what really matters in finance."
   ]
  },
  {
   "cell_type": "markdown",
   "metadata": {},
   "source": [
    "# Factor Investing"
   ]
  },
  {
   "cell_type": "markdown",
   "metadata": {},
   "source": [
    "## Capital Asset Pricing Model"
   ]
  },
  {
   "cell_type": "markdown",
   "metadata": {},
   "source": [
    "In finance and economics, **systematic risk** (also called aggregate risk or undiversifiable risk) is vulnerability to events which affect aggregate outcomes such as broad market returns, total economy-wide resource holdings, or aggregate income. Systematic or aggregate risk arises from market structure or dynamics which produce shocks or uncertainty faced by all agents in the market; such shocks could arise from government policy, international economic forces, or acts of nature. In contrast, **specific risk** (sometimes called residual risk, unsystematic risk, or idiosyncratic risk) is risk to which only specific agents or industries are vulnerable (and is uncorrelated with broad market returns). Due to the idiosyncratic nature of unsystematic risk, it can be reduced or eliminated through diversification; but since all market actors are vulnerable to systematic risk, it cannot be limited through diversification (but it may be insurable). As a result, assets whose returns are negatively correlated with broader market returns command higher prices than assets not possessing this property. \n",
    "\n",
    "\n",
    "Systematic risk plays an important role in portfolio allocation. Risk which cannot be eliminated through diversification commands returns in excess of the risk-free rate (while idiosyncratic risk does not command such returns since it can be diversified). Over the long run, a well-diversified portfolio provides returns which correspond with its exposure to systematic risk; investors face a trade-off between expected returns and systematic risk. Therefore, an investor's desired returns correspond with their desired exposure to systematic risk and corresponding asset selection. Investors can only reduce a portfolio's exposure to systematic risk by sacrificing expected returns.\n",
    "\n",
    "An important concept for evaluating an asset's exposure to systematic risk is **beta**. Since <u>beta indicates the degree to which an asset's return is correlated with broader market outcomes, it is simply an indicator of an asset's vulnerability to systematic risk.</u> Hence, the capital asset pricing model (CAPM) directly ties an asset's equilibrium price to its exposure to systematic risk.\n",
    "\n",
    "\n",
    "A simple example:\n",
    "Consider an investor who purchases stock in many firms from most global industries. This investor is vulnerable to systematic risk but has diversified away the effects of idiosyncratic risks on his portfolio value; further reduction in risk would require him to acquire risk-free assets with lower returns (such as U.S. Treasury securities). On the other hand, an investor who invests all of his money in one industry whose returns are typically uncorrelated with broad market outcomes (beta close to zero) has limited his exposure to systematic risk but, due to lack of diversification, is highly vulnerable to idiosyncratic risk. \n",
    "\n",
    "\n",
    "In finance, the beta of an investment is a measure of the risk arising from exposure to general market movements as opposed to idiosyncratic factors (systemic risk).\n",
    "\n",
    "The market portfolio of all investable assets has a beta of exactly 1. A beta below 1 can indicate either an investment with lower volatility than the market, or a volatile investment whose price movements are not highly correlated with the market.An example of the first is a treasury bill: the price does not fluctuate significantly, so it has a low beta. An example of the second is gold. The price of gold fluctuates significantly, but not in the same direction or at the same time as the market.\n",
    "A beta greater than 1 generally means that the asset both is volatile and tends to move up and down with the market. An example is a stock in a big technology company. Negative betas are possible for investments that tend to go down when the market goes up, and vice versa. There are few fundamental investments with consistent and significant negative betas, but some derivatives like put options can have large negative betas.\n",
    "\n",
    "**Security Market Line**\n",
    "\n",
    "<img src='images/capm_1.png' width=300 />\n",
    "<img src='images/SML-chart.png' width=300 />\n",
    "<img src='images/systmatic_risk.gif' width=300 />\n",
    "\n",
    "References:\n",
    "https://analystprep.com/study-notes/frm/part-1/foundations-of-risk-management/the-capital-asset-pricing-model/\n",
    "https://en.wikipedia.org/wiki/Security_market_line\n",
    "https://en.wikipedia.org/wiki/Systematic_risk\n",
    "https://en.wikipedia.org/wiki/Beta_(finance)\n"
   ]
  },
  {
   "cell_type": "code",
   "execution_count": 2,
   "metadata": {},
   "outputs": [],
   "source": [
    "FamaFrenchData = pd.read_csv('FamaFrenchFactors.csv')"
   ]
  },
  {
   "cell_type": "code",
   "execution_count": 3,
   "metadata": {},
   "outputs": [
    {
     "data": {
      "text/html": [
       "<div>\n",
       "<style scoped>\n",
       "    .dataframe tbody tr th:only-of-type {\n",
       "        vertical-align: middle;\n",
       "    }\n",
       "\n",
       "    .dataframe tbody tr th {\n",
       "        vertical-align: top;\n",
       "    }\n",
       "\n",
       "    .dataframe thead th {\n",
       "        text-align: right;\n",
       "    }\n",
       "</style>\n",
       "<table border=\"1\" class=\"dataframe\">\n",
       "  <thead>\n",
       "    <tr style=\"text-align: right;\">\n",
       "      <th></th>\n",
       "      <th>Date</th>\n",
       "      <th>Portfolio</th>\n",
       "      <th>Market_Excess</th>\n",
       "      <th>SMB</th>\n",
       "      <th>HML</th>\n",
       "      <th>RMW</th>\n",
       "      <th>CMA</th>\n",
       "      <th>RF</th>\n",
       "    </tr>\n",
       "  </thead>\n",
       "  <tbody>\n",
       "    <tr>\n",
       "      <th>0</th>\n",
       "      <td>2013-01-03</td>\n",
       "      <td>-0.005066</td>\n",
       "      <td>-0.0014</td>\n",
       "      <td>0.0014</td>\n",
       "      <td>0.0004</td>\n",
       "      <td>0.0020</td>\n",
       "      <td>0.0023</td>\n",
       "      <td>0.0</td>\n",
       "    </tr>\n",
       "    <tr>\n",
       "      <th>1</th>\n",
       "      <td>2013-01-04</td>\n",
       "      <td>0.004024</td>\n",
       "      <td>0.0055</td>\n",
       "      <td>0.0019</td>\n",
       "      <td>0.0043</td>\n",
       "      <td>-0.0037</td>\n",
       "      <td>0.0027</td>\n",
       "      <td>0.0</td>\n",
       "    </tr>\n",
       "    <tr>\n",
       "      <th>2</th>\n",
       "      <td>2013-01-07</td>\n",
       "      <td>0.004421</td>\n",
       "      <td>-0.0031</td>\n",
       "      <td>-0.0009</td>\n",
       "      <td>-0.0037</td>\n",
       "      <td>-0.0013</td>\n",
       "      <td>-0.0012</td>\n",
       "      <td>0.0</td>\n",
       "    </tr>\n",
       "    <tr>\n",
       "      <th>3</th>\n",
       "      <td>2013-01-08</td>\n",
       "      <td>-0.004659</td>\n",
       "      <td>-0.0027</td>\n",
       "      <td>0.0004</td>\n",
       "      <td>-0.0007</td>\n",
       "      <td>-0.0012</td>\n",
       "      <td>0.0009</td>\n",
       "      <td>0.0</td>\n",
       "    </tr>\n",
       "    <tr>\n",
       "      <th>4</th>\n",
       "      <td>2013-01-09</td>\n",
       "      <td>0.004636</td>\n",
       "      <td>0.0034</td>\n",
       "      <td>0.0024</td>\n",
       "      <td>-0.0041</td>\n",
       "      <td>-0.0007</td>\n",
       "      <td>-0.0015</td>\n",
       "      <td>0.0</td>\n",
       "    </tr>\n",
       "  </tbody>\n",
       "</table>\n",
       "</div>"
      ],
      "text/plain": [
       "         Date  Portfolio  Market_Excess     SMB     HML     RMW     CMA   RF\n",
       "0  2013-01-03  -0.005066        -0.0014  0.0014  0.0004  0.0020  0.0023  0.0\n",
       "1  2013-01-04   0.004024         0.0055  0.0019  0.0043 -0.0037  0.0027  0.0\n",
       "2  2013-01-07   0.004421        -0.0031 -0.0009 -0.0037 -0.0013 -0.0012  0.0\n",
       "3  2013-01-08  -0.004659        -0.0027  0.0004 -0.0007 -0.0012  0.0009  0.0\n",
       "4  2013-01-09   0.004636         0.0034  0.0024 -0.0041 -0.0007 -0.0015  0.0"
      ]
     },
     "execution_count": 3,
     "metadata": {},
     "output_type": "execute_result"
    }
   ],
   "source": [
    "FamaFrenchData.head()"
   ]
  },
  {
   "cell_type": "code",
   "execution_count": 4,
   "metadata": {},
   "outputs": [],
   "source": [
    "# Calculate excess portfolio returns\n",
    "FamaFrenchData['Portfolio_Excess'] = FamaFrenchData['Portfolio'] - FamaFrenchData['RF']"
   ]
  },
  {
   "cell_type": "code",
   "execution_count": 5,
   "metadata": {
    "scrolled": true
   },
   "outputs": [
    {
     "data": {
      "image/png": "[encoded data removed]",
      "text/plain": [
       "<Figure size 432x288 with 1 Axes>"
      ]
     },
     "metadata": {
      "needs_background": "light"
     },
     "output_type": "display_data"
    }
   ],
   "source": [
    "# Plot returns vs excess returns\n",
    "CumulativeReturns = ((1+FamaFrenchData[['Portfolio','Portfolio_Excess']]).cumprod()-1)\n",
    "CumulativeReturns.plot()\n",
    "plt.show()"
   ]
  },
  {
   "cell_type": "markdown",
   "metadata": {},
   "source": [
    "<img src=\"images/beta_as_var_ratio.png\" width=300/>\n",
    "\n",
    "r<sub>a</sub> is the return of the asset, r<sub>b</sub> is return of the benchmark. "
   ]
  },
  {
   "cell_type": "code",
   "execution_count": 7,
   "metadata": {},
   "outputs": [
    {
     "name": "stdout",
     "output_type": "stream",
     "text": [
      "5.726126338154974e-05\n",
      "5.8803350882118946e-05\n",
      "0.9737755165745473\n"
     ]
    }
   ],
   "source": [
    "# Calculate the co-variance matrix between Portfolio_Excess and Market_Excess\n",
    "covariance_matrix = FamaFrenchData[['Portfolio_Excess', 'Market_Excess']].cov()\n",
    "\n",
    "# Extract the co-variance co-efficient\n",
    "covariance_coefficient = covariance_matrix.iloc[0, 1]\n",
    "print(covariance_coefficient)\n",
    "\n",
    "# Calculate the benchmark variance\n",
    "benchmark_variance = FamaFrenchData['Market_Excess'].var()\n",
    "print(benchmark_variance)\n",
    "\n",
    "# Calculating the portfolio market beta\n",
    "portfolio_beta = covariance_coefficient / benchmark_variance\n",
    "print(portfolio_beta)"
   ]
  },
  {
   "cell_type": "markdown",
   "metadata": {},
   "source": [
    "Since beta is 0.97, for every 1.0% rise (or fall) in the market, we can expect the portfolio to rise (fall) roughly 0.97%"
   ]
  },
  {
   "cell_type": "code",
   "execution_count": 10,
   "metadata": {},
   "outputs": [
    {
     "name": "stdout",
     "output_type": "stream",
     "text": [
      "0.7942627160017837\n"
     ]
    }
   ],
   "source": [
    "# Define the regression formula\n",
    "CAPM_model = smf.ols(formula='Portfolio_Excess ~ Market_Excess', data=FamaFrenchData)\n",
    "\n",
    "# Print adjusted r-squared of the fitted regression\n",
    "CAPM_fit = CAPM_model.fit()\n",
    "print(CAPM_fit.rsquared_adj)"
   ]
  },
  {
   "cell_type": "code",
   "execution_count": 14,
   "metadata": {},
   "outputs": [
    {
     "name": "stdout",
     "output_type": "stream",
     "text": [
      "0.9737755165745478\n"
     ]
    }
   ],
   "source": [
    "beta = CAPM_fit.params.loc['Market_Excess']\n",
    "print(beta)"
   ]
  },
  {
   "cell_type": "code",
   "execution_count": null,
   "metadata": {},
   "outputs": [],
   "source": []
  },
  {
   "cell_type": "markdown",
   "metadata": {},
   "source": [
    "## Fama French Model\n",
    "\n",
    "\n",
    "<img src='images/fama_french_1.png' width=400/>\n",
    "\n",
    "https://en.wikipedia.org/wiki/Fama%E2%80%93French_three-factor_model"
   ]
  },
  {
   "cell_type": "code",
   "execution_count": 15,
   "metadata": {},
   "outputs": [
    {
     "name": "stdout",
     "output_type": "stream",
     "text": [
      "0.8193910088585149\n"
     ]
    }
   ],
   "source": [
    "FamaFrench_model = smf.ols(formula='Portfolio_Excess ~ Market_Excess + SMB + HML', data=FamaFrenchData)\n",
    "\n",
    "FamaFrench_fit = FamaFrench_model.fit()\n",
    "\n",
    "regression_adj_rsq = FamaFrench_fit.rsquared_adj\n",
    "print(regression_adj_rsq)"
   ]
  },
  {
   "cell_type": "markdown",
   "metadata": {},
   "source": [
    "Note that adjusted R2 is much larger than the one obtained by CAPM model."
   ]
  },
  {
   "cell_type": "code",
   "execution_count": 18,
   "metadata": {
    "scrolled": true
   },
   "outputs": [
    {
     "data": {
      "text/plain": [
       "Intercept        0.000183\n",
       "Market_Excess    1.015498\n",
       "SMB             -0.262152\n",
       "HML             -0.108657\n",
       "dtype: float64"
      ]
     },
     "execution_count": 18,
     "metadata": {},
     "output_type": "execute_result"
    }
   ],
   "source": [
    "FamaFrench_fit.params"
   ]
  },
  {
   "cell_type": "markdown",
   "metadata": {},
   "source": [
    "Note that the coefficients for SMB and HML are both negative."
   ]
  },
  {
   "cell_type": "code",
   "execution_count": 19,
   "metadata": {},
   "outputs": [
    {
     "data": {
      "text/plain": [
       "Intercept        6.904127e-02\n",
       "Market_Excess    0.000000e+00\n",
       "SMB              1.520051e-33\n",
       "HML              4.699308e-07\n",
       "dtype: float64"
      ]
     },
     "execution_count": 19,
     "metadata": {},
     "output_type": "execute_result"
    }
   ],
   "source": [
    "FamaFrench_fit.pvalues"
   ]
  },
  {
   "cell_type": "markdown",
   "metadata": {},
   "source": [
    "The alpha (α) left over by the regression is unexplained performance due to unknown factors. In a regression model, this is simply the coefficient of the intercept.\n",
    "\n",
    "There are two general schools of thought as to why:\n",
    "- The model simply needs to be expanded. When you have found all of the missing economic factors, you can explain all stock and portfolio returns. This is known as the Efficient Market Hypothesis.\n",
    "- There is a degree of unexplainable performance that no model will ever capture reliably. Perhaps it is due to skill, timing, intuition or luck, but investors should seek to maximize their alpha.\n"
   ]
  },
  {
   "cell_type": "code",
   "execution_count": 20,
   "metadata": {},
   "outputs": [
    {
     "name": "stdout",
     "output_type": "stream",
     "text": [
      "0.00018326665203183447\n",
      "0.04726181730280854\n"
     ]
    }
   ],
   "source": [
    "# Calculate your portfolio alpha\n",
    "portfolio_alpha = FamaFrench_fit.params['Intercept']\n",
    "print(portfolio_alpha)\n",
    "\n",
    "# Annualize your portfolio alpha\n",
    "portfolio_alpha_annualized = ((1 + portfolio_alpha) ** 252) - 1\n",
    "print(portfolio_alpha_annualized)"
   ]
  },
  {
   "cell_type": "markdown",
   "metadata": {},
   "source": [
    "The 5-factor model\n",
    "\n",
    "In 2015, Fama and French extended their previous 3-factor model, adding two additional factors:\n",
    "\n",
    "    RMW: Profitability\n",
    "    CMA: Investment\n",
    "\n",
    "The RMW factor represents the returns of companies with high operating profitability versus those with low operating profitability, and the CMA factor represents the returns of companies with aggressive investments versus those who are more conservative"
   ]
  },
  {
   "cell_type": "code",
   "execution_count": 21,
   "metadata": {},
   "outputs": [
    {
     "name": "stdout",
     "output_type": "stream",
     "text": [
      "0.8367245019225789\n"
     ]
    }
   ],
   "source": [
    "# Define the regression formula\n",
    "FamaFrench5_model = smf.ols(formula='Portfolio_Excess ~ Market_Excess + SMB + HML + RMW + CMA', data=FamaFrenchData)\n",
    "\n",
    "# Fit the regression\n",
    "FamaFrench5_fit = FamaFrench5_model.fit()\n",
    "\n",
    "# Extract the adjusted r-squared\n",
    "regression_adj_rsq = FamaFrench5_fit.rsquared_adj\n",
    "print(regression_adj_rsq)"
   ]
  },
  {
   "cell_type": "markdown",
   "metadata": {},
   "source": [
    "Note that this adjusted R2 is larger than the one obtained by CAPM and Fama-French 3 factor model."
   ]
  },
  {
   "cell_type": "markdown",
   "metadata": {},
   "source": [
    "# Value at Risk"
   ]
  },
  {
   "cell_type": "markdown",
   "metadata": {},
   "source": [
    "## Drawdown\n",
    "\n",
    "<img src='images/drawdown.png'/>"
   ]
  },
  {
   "cell_type": "code",
   "execution_count": 52,
   "metadata": {},
   "outputs": [],
   "source": [
    "# Cumulative returns of USO (ETF that tracks oil)\n",
    "daily_rets = pd.read_csv('USO.csv', parse_dates=['Date'], index_col='Date')"
   ]
  },
  {
   "cell_type": "code",
   "execution_count": 53,
   "metadata": {
    "scrolled": true
   },
   "outputs": [
    {
     "data": {
      "text/plain": [
       "<matplotlib.axes._subplots.AxesSubplot at 0x7f11a52d0048>"
      ]
     },
     "execution_count": 53,
     "metadata": {},
     "output_type": "execute_result"
    },
    {
     "data": {
      "image/png": "[encoded data removed]",
      "text/plain": [
       "<Figure size 432x288 with 1 Axes>"
      ]
     },
     "metadata": {
      "needs_background": "light"
     },
     "output_type": "display_data"
    }
   ],
   "source": [
    "daily_rets.plot()"
   ]
  },
  {
   "cell_type": "code",
   "execution_count": 54,
   "metadata": {},
   "outputs": [],
   "source": [
    "cum_rets = (1 + daily_rets).cumprod() - 1"
   ]
  },
  {
   "cell_type": "code",
   "execution_count": 55,
   "metadata": {},
   "outputs": [
    {
     "data": {
      "text/plain": [
       "<matplotlib.axes._subplots.AxesSubplot at 0x7f11a52d0908>"
      ]
     },
     "execution_count": 55,
     "metadata": {},
     "output_type": "execute_result"
    },
    {
     "data": {
      "image/png": "[encoded data removed]",
      "text/plain": [
       "<Figure size 432x288 with 1 Axes>"
      ]
     },
     "metadata": {
      "needs_background": "light"
     },
     "output_type": "display_data"
    }
   ],
   "source": [
    "cum_rets.plot()"
   ]
  },
  {
   "cell_type": "code",
   "execution_count": 56,
   "metadata": {},
   "outputs": [],
   "source": [
    "# Calculate the running maximum\n",
    "running_max = np.maximum.accumulate(cum_rets)"
   ]
  },
  {
   "cell_type": "code",
   "execution_count": 57,
   "metadata": {},
   "outputs": [
    {
     "data": {
      "text/plain": [
       "<matplotlib.axes._subplots.AxesSubplot at 0x7f11a503b358>"
      ]
     },
     "execution_count": 57,
     "metadata": {},
     "output_type": "execute_result"
    },
    {
     "data": {
      "image/png": "[encoded data removed]",
      "text/plain": [
       "<Figure size 432x288 with 1 Axes>"
      ]
     },
     "metadata": {
      "needs_background": "light"
     },
     "output_type": "display_data"
    }
   ],
   "source": [
    "running_max.plot()"
   ]
  },
  {
   "cell_type": "code",
   "execution_count": 58,
   "metadata": {},
   "outputs": [],
   "source": [
    "# Ensure the value never drops below 1\n",
    "running_max[running_max < 1] = 1"
   ]
  },
  {
   "cell_type": "code",
   "execution_count": 59,
   "metadata": {
    "scrolled": true
   },
   "outputs": [
    {
     "data": {
      "text/plain": [
       "<matplotlib.axes._subplots.AxesSubplot at 0x7f11a4edd5f8>"
      ]
     },
     "execution_count": 59,
     "metadata": {},
     "output_type": "execute_result"
    },
    {
     "data": {
      "image/png": "[encoded data removed]",
      "text/plain": [
       "<Figure size 432x288 with 1 Axes>"
      ]
     },
     "metadata": {
      "needs_background": "light"
     },
     "output_type": "display_data"
    }
   ],
   "source": [
    "running_max.plot()"
   ]
  },
  {
   "cell_type": "code",
   "execution_count": 60,
   "metadata": {},
   "outputs": [
    {
     "data": {
      "image/png": "[encoded data removed]",
      "text/plain": [
       "<Figure size 432x288 with 1 Axes>"
      ]
     },
     "metadata": {
      "needs_background": "light"
     },
     "output_type": "display_data"
    }
   ],
   "source": [
    "# Calculate the percentage drawdown\n",
    "drawdown = ((cum_rets)/running_max) - 1\n",
    "\n",
    "drawdown.plot()\n",
    "plt.show()"
   ]
  },
  {
   "cell_type": "markdown",
   "metadata": {},
   "source": [
    "Notice how the drawdown never goes above 0 (as opposed to the previous plot)? That's because a positive drawdown isn't a drawdown at all - its a gain"
   ]
  },
  {
   "cell_type": "code",
   "execution_count": null,
   "metadata": {},
   "outputs": [],
   "source": []
  }
 ],
 "metadata": {
  "kernelspec": {
   "display_name": "Python 3",
   "language": "python",
   "name": "python3"
  },
  "language_info": {
   "codemirror_mode": {
    "name": "ipython",
    "version": 3
   },
   "file_extension": ".py",
   "mimetype": "text/x-python",
   "name": "python",
   "nbconvert_exporter": "python",
   "pygments_lexer": "ipython3",
   "version": "3.7.3"
  },
  "toc": {
   "base_numbering": 1,
   "nav_menu": {},
   "number_sections": true,
   "sideBar": true,
   "skip_h1_title": false,
   "title_cell": "Table of Contents",
   "title_sidebar": "Contents",
   "toc_cell": false,
   "toc_position": {},
   "toc_section_display": true,
   "toc_window_display": true
  }
 },
 "nbformat": 4,
 "nbformat_minor": 2
}
